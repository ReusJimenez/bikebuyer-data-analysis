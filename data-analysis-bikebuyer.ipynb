{
 "cells": [
  {
   "cell_type": "markdown",
   "id": "4ccbb4d8",
   "metadata": {},
   "source": [
    "# 🚴‍♂️ Análisis de Datos – Clientes Potenciales (*Bikebuyer*)\n",
    "\n",
    "Este notebook presenta un análisis del dataset `BikeBuyer`, con foco en la **limpieza**, **transformación** y **análisis exploratorio de datos (EDA)**. Además, se responden una serie de preguntas orientadas a comprender mejor el perfil de los compradores de bicicletas.\n",
    "\n",
    "## 🎯 Objetivo\n",
    "\n",
    "El objetivo de este notebook es **preparar y explorar el dataset BikeBuyer** para dejarlo en condiciones óptimas para análisis posteriores o modelos de machine learning. Esto incluye:\n",
    "\n",
    "- Realizar una limpieza profunda de los datos (valores nulos, columnas irrelevantes).\n",
    "- Transformar variables para facilitar el análisis (como edad, educación u ocupación).\n",
    "- Explorar patrones y relaciones entre variables clave.\n",
    "- Guiar el análisis mediante preguntas exploratorias enfocadas en entender qué caracteriza a los compradores de bicicletas (0 Compra, 1 No compra)."
   ]
  },
  {
   "cell_type": "code",
   "execution_count": 3,
   "id": "11f7523d",
   "metadata": {},
   "outputs": [],
   "source": [
    "# Importación de librerías\n",
    "import pandas as pd\n",
    "import numpy as np\n",
    "import matplotlib.pyplot as plt\n",
    "import seaborn as sns\n",
    "\n",
    "%matplotlib inline\n",
    "sns.set_style(\"whitegrid\")\n",
    "pd.options.display.max_columns = None"
   ]
  },
  {
   "cell_type": "code",
   "execution_count": null,
   "id": "930decc4",
   "metadata": {},
   "outputs": [
    {
     "data": {
      "text/html": [
       "<div>\n",
       "<style scoped>\n",
       "    .dataframe tbody tr th:only-of-type {\n",
       "        vertical-align: middle;\n",
       "    }\n",
       "\n",
       "    .dataframe tbody tr th {\n",
       "        vertical-align: top;\n",
       "    }\n",
       "\n",
       "    .dataframe thead th {\n",
       "        text-align: right;\n",
       "    }\n",
       "</style>\n",
       "<table border=\"1\" class=\"dataframe\">\n",
       "  <thead>\n",
       "    <tr style=\"text-align: right;\">\n",
       "      <th></th>\n",
       "      <th>CustomerKey</th>\n",
       "      <th>GeographyKey</th>\n",
       "      <th>CustomerAlternateKey</th>\n",
       "      <th>Title</th>\n",
       "      <th>FirstName</th>\n",
       "      <th>MiddleName</th>\n",
       "      <th>LastName</th>\n",
       "      <th>NameStyle</th>\n",
       "      <th>BirthDate</th>\n",
       "      <th>MaritalStatus</th>\n",
       "      <th>Suffix</th>\n",
       "      <th>Gender</th>\n",
       "      <th>EmailAddress</th>\n",
       "      <th>YearlyIncome</th>\n",
       "      <th>TotalChildren</th>\n",
       "      <th>NumberChildrenAtHome</th>\n",
       "      <th>EnglishEducation</th>\n",
       "      <th>SpanishEducation</th>\n",
       "      <th>FrenchEducation</th>\n",
       "      <th>EnglishOccupation</th>\n",
       "      <th>SpanishOccupation</th>\n",
       "      <th>FrenchOccupation</th>\n",
       "      <th>HouseOwnerFlag</th>\n",
       "      <th>NumberCarsOwned</th>\n",
       "      <th>AddressLine1</th>\n",
       "      <th>AddressLine2</th>\n",
       "      <th>Phone</th>\n",
       "      <th>DateFirstPurchase</th>\n",
       "      <th>CommuteDistance</th>\n",
       "      <th>Region</th>\n",
       "      <th>BikeBuyer</th>\n",
       "    </tr>\n",
       "  </thead>\n",
       "  <tbody>\n",
       "    <tr>\n",
       "      <th>0</th>\n",
       "      <td>11000</td>\n",
       "      <td>26</td>\n",
       "      <td>AW00011000</td>\n",
       "      <td>NaN</td>\n",
       "      <td>Jon</td>\n",
       "      <td>V</td>\n",
       "      <td>Yang</td>\n",
       "      <td>0</td>\n",
       "      <td>1986-10-06</td>\n",
       "      <td>M</td>\n",
       "      <td>NaN</td>\n",
       "      <td>M</td>\n",
       "      <td>jon24@adventure-works.com</td>\n",
       "      <td>90000</td>\n",
       "      <td>2</td>\n",
       "      <td>0</td>\n",
       "      <td>Bachelors</td>\n",
       "      <td>Licenciatura</td>\n",
       "      <td>Bac + 4</td>\n",
       "      <td>Professional</td>\n",
       "      <td>Profesional</td>\n",
       "      <td>Cadre</td>\n",
       "      <td>1</td>\n",
       "      <td>0</td>\n",
       "      <td>3761 N. 14th St</td>\n",
       "      <td>NaN</td>\n",
       "      <td>1 (11) 500 555-0162</td>\n",
       "      <td>2011-01-19</td>\n",
       "      <td>1-2 Miles</td>\n",
       "      <td>Pacific</td>\n",
       "      <td>1</td>\n",
       "    </tr>\n",
       "    <tr>\n",
       "      <th>1</th>\n",
       "      <td>11001</td>\n",
       "      <td>37</td>\n",
       "      <td>AW00011001</td>\n",
       "      <td>NaN</td>\n",
       "      <td>Eugene</td>\n",
       "      <td>L</td>\n",
       "      <td>Huang</td>\n",
       "      <td>0</td>\n",
       "      <td>1991-05-10</td>\n",
       "      <td>S</td>\n",
       "      <td>NaN</td>\n",
       "      <td>M</td>\n",
       "      <td>eugene10@adventure-works.com</td>\n",
       "      <td>60000</td>\n",
       "      <td>3</td>\n",
       "      <td>3</td>\n",
       "      <td>Bachelors</td>\n",
       "      <td>Licenciatura</td>\n",
       "      <td>Bac + 4</td>\n",
       "      <td>Professional</td>\n",
       "      <td>Profesional</td>\n",
       "      <td>Cadre</td>\n",
       "      <td>0</td>\n",
       "      <td>1</td>\n",
       "      <td>2243 W St.</td>\n",
       "      <td>NaN</td>\n",
       "      <td>1 (11) 500 555-0110</td>\n",
       "      <td>2011-01-15</td>\n",
       "      <td>0-1 Miles</td>\n",
       "      <td>Pacific</td>\n",
       "      <td>1</td>\n",
       "    </tr>\n",
       "    <tr>\n",
       "      <th>2</th>\n",
       "      <td>11002</td>\n",
       "      <td>31</td>\n",
       "      <td>AW00011002</td>\n",
       "      <td>NaN</td>\n",
       "      <td>Ruben</td>\n",
       "      <td>NaN</td>\n",
       "      <td>Torres</td>\n",
       "      <td>0</td>\n",
       "      <td>1986-02-09</td>\n",
       "      <td>M</td>\n",
       "      <td>NaN</td>\n",
       "      <td>M</td>\n",
       "      <td>ruben35@adventure-works.com</td>\n",
       "      <td>60000</td>\n",
       "      <td>3</td>\n",
       "      <td>3</td>\n",
       "      <td>Bachelors</td>\n",
       "      <td>Licenciatura</td>\n",
       "      <td>Bac + 4</td>\n",
       "      <td>Professional</td>\n",
       "      <td>Profesional</td>\n",
       "      <td>Cadre</td>\n",
       "      <td>1</td>\n",
       "      <td>1</td>\n",
       "      <td>5844 Linden Land</td>\n",
       "      <td>NaN</td>\n",
       "      <td>1 (11) 500 555-0184</td>\n",
       "      <td>2011-01-07</td>\n",
       "      <td>2-5 Miles</td>\n",
       "      <td>Pacific</td>\n",
       "      <td>1</td>\n",
       "    </tr>\n",
       "    <tr>\n",
       "      <th>3</th>\n",
       "      <td>11003</td>\n",
       "      <td>11</td>\n",
       "      <td>AW00011003</td>\n",
       "      <td>NaN</td>\n",
       "      <td>Christy</td>\n",
       "      <td>NaN</td>\n",
       "      <td>Zhu</td>\n",
       "      <td>0</td>\n",
       "      <td>1988-08-14</td>\n",
       "      <td>S</td>\n",
       "      <td>NaN</td>\n",
       "      <td>F</td>\n",
       "      <td>christy12@adventure-works.com</td>\n",
       "      <td>70000</td>\n",
       "      <td>0</td>\n",
       "      <td>0</td>\n",
       "      <td>Bachelors</td>\n",
       "      <td>Licenciatura</td>\n",
       "      <td>Bac + 4</td>\n",
       "      <td>Professional</td>\n",
       "      <td>Profesional</td>\n",
       "      <td>Cadre</td>\n",
       "      <td>0</td>\n",
       "      <td>1</td>\n",
       "      <td>1825 Village Pl.</td>\n",
       "      <td>NaN</td>\n",
       "      <td>1 (11) 500 555-0162</td>\n",
       "      <td>2010-12-29</td>\n",
       "      <td>5-10 Miles</td>\n",
       "      <td>Pacific</td>\n",
       "      <td>1</td>\n",
       "    </tr>\n",
       "    <tr>\n",
       "      <th>4</th>\n",
       "      <td>11004</td>\n",
       "      <td>19</td>\n",
       "      <td>AW00011004</td>\n",
       "      <td>NaN</td>\n",
       "      <td>Elizabeth</td>\n",
       "      <td>NaN</td>\n",
       "      <td>Johnson</td>\n",
       "      <td>0</td>\n",
       "      <td>1994-08-05</td>\n",
       "      <td>S</td>\n",
       "      <td>NaN</td>\n",
       "      <td>F</td>\n",
       "      <td>elizabeth5@adventure-works.com</td>\n",
       "      <td>80000</td>\n",
       "      <td>5</td>\n",
       "      <td>5</td>\n",
       "      <td>Bachelors</td>\n",
       "      <td>Licenciatura</td>\n",
       "      <td>Bac + 4</td>\n",
       "      <td>Professional</td>\n",
       "      <td>Profesional</td>\n",
       "      <td>Cadre</td>\n",
       "      <td>1</td>\n",
       "      <td>4</td>\n",
       "      <td>7553 Harness Circle</td>\n",
       "      <td>NaN</td>\n",
       "      <td>1 (11) 500 555-0131</td>\n",
       "      <td>2011-01-23</td>\n",
       "      <td>1-2 Miles</td>\n",
       "      <td>Pacific</td>\n",
       "      <td>1</td>\n",
       "    </tr>\n",
       "  </tbody>\n",
       "</table>\n",
       "</div>"
      ],
      "text/plain": [
       "   CustomerKey  GeographyKey CustomerAlternateKey Title  FirstName MiddleName  \\\n",
       "0        11000            26           AW00011000   NaN        Jon          V   \n",
       "1        11001            37           AW00011001   NaN     Eugene          L   \n",
       "2        11002            31           AW00011002   NaN      Ruben        NaN   \n",
       "3        11003            11           AW00011003   NaN    Christy        NaN   \n",
       "4        11004            19           AW00011004   NaN  Elizabeth        NaN   \n",
       "\n",
       "  LastName  NameStyle  BirthDate MaritalStatus Suffix Gender  \\\n",
       "0     Yang          0 1986-10-06             M    NaN      M   \n",
       "1    Huang          0 1991-05-10             S    NaN      M   \n",
       "2   Torres          0 1986-02-09             M    NaN      M   \n",
       "3      Zhu          0 1988-08-14             S    NaN      F   \n",
       "4  Johnson          0 1994-08-05             S    NaN      F   \n",
       "\n",
       "                     EmailAddress  YearlyIncome  TotalChildren  \\\n",
       "0       jon24@adventure-works.com         90000              2   \n",
       "1    eugene10@adventure-works.com         60000              3   \n",
       "2     ruben35@adventure-works.com         60000              3   \n",
       "3   christy12@adventure-works.com         70000              0   \n",
       "4  elizabeth5@adventure-works.com         80000              5   \n",
       "\n",
       "   NumberChildrenAtHome EnglishEducation SpanishEducation FrenchEducation  \\\n",
       "0                     0        Bachelors     Licenciatura         Bac + 4   \n",
       "1                     3        Bachelors     Licenciatura         Bac + 4   \n",
       "2                     3        Bachelors     Licenciatura         Bac + 4   \n",
       "3                     0        Bachelors     Licenciatura         Bac + 4   \n",
       "4                     5        Bachelors     Licenciatura         Bac + 4   \n",
       "\n",
       "  EnglishOccupation SpanishOccupation FrenchOccupation  HouseOwnerFlag  \\\n",
       "0      Professional       Profesional            Cadre               1   \n",
       "1      Professional       Profesional            Cadre               0   \n",
       "2      Professional       Profesional            Cadre               1   \n",
       "3      Professional       Profesional            Cadre               0   \n",
       "4      Professional       Profesional            Cadre               1   \n",
       "\n",
       "   NumberCarsOwned         AddressLine1 AddressLine2                Phone  \\\n",
       "0                0      3761 N. 14th St          NaN  1 (11) 500 555-0162   \n",
       "1                1           2243 W St.          NaN  1 (11) 500 555-0110   \n",
       "2                1     5844 Linden Land          NaN  1 (11) 500 555-0184   \n",
       "3                1     1825 Village Pl.          NaN  1 (11) 500 555-0162   \n",
       "4                4  7553 Harness Circle          NaN  1 (11) 500 555-0131   \n",
       "\n",
       "  DateFirstPurchase CommuteDistance   Region  BikeBuyer  \n",
       "0        2011-01-19       1-2 Miles  Pacific          1  \n",
       "1        2011-01-15       0-1 Miles  Pacific          1  \n",
       "2        2011-01-07       2-5 Miles  Pacific          1  \n",
       "3        2010-12-29      5-10 Miles  Pacific          1  \n",
       "4        2011-01-23       1-2 Miles  Pacific          1  "
      ]
     },
     "execution_count": 4,
     "metadata": {},
     "output_type": "execute_result"
    }
   ],
   "source": [
    "# Carga y muestra del dataset \n",
    "df = pd.read_excel(\"data-bikebuyer.xlsx\")\n",
    "df.head()"
   ]
  },
  {
   "cell_type": "markdown",
   "id": "0dc412c2",
   "metadata": {},
   "source": [
    "## 🔍 Exploración Inicial"
   ]
  },
  {
   "cell_type": "code",
   "execution_count": 5,
   "id": "8af4e946",
   "metadata": {},
   "outputs": [
    {
     "name": "stdout",
     "output_type": "stream",
     "text": [
      "Filas: 18484, Columnas: 31\n"
     ]
    }
   ],
   "source": [
    "# Tamaño del dataset\n",
    "print(f\"Filas: {df.shape[0]}, Columnas: {df.shape[1]}\")"
   ]
  },
  {
   "cell_type": "code",
   "execution_count": 6,
   "id": "629caf34",
   "metadata": {},
   "outputs": [
    {
     "name": "stdout",
     "output_type": "stream",
     "text": [
      "<class 'pandas.core.frame.DataFrame'>\n",
      "RangeIndex: 18484 entries, 0 to 18483\n",
      "Data columns (total 31 columns):\n",
      " #   Column                Non-Null Count  Dtype         \n",
      "---  ------                --------------  -----         \n",
      " 0   CustomerKey           18484 non-null  int64         \n",
      " 1   GeographyKey          18484 non-null  int64         \n",
      " 2   CustomerAlternateKey  18484 non-null  object        \n",
      " 3   Title                 101 non-null    object        \n",
      " 4   FirstName             18484 non-null  object        \n",
      " 5   MiddleName            10654 non-null  object        \n",
      " 6   LastName              18484 non-null  object        \n",
      " 7   NameStyle             18484 non-null  int64         \n",
      " 8   BirthDate             18484 non-null  datetime64[ns]\n",
      " 9   MaritalStatus         18484 non-null  object        \n",
      " 10  Suffix                3 non-null      object        \n",
      " 11  Gender                18484 non-null  object        \n",
      " 12  EmailAddress          18484 non-null  object        \n",
      " 13  YearlyIncome          18484 non-null  int64         \n",
      " 14  TotalChildren         18484 non-null  int64         \n",
      " 15  NumberChildrenAtHome  18484 non-null  int64         \n",
      " 16  EnglishEducation      18484 non-null  object        \n",
      " 17  SpanishEducation      18484 non-null  object        \n",
      " 18  FrenchEducation       18484 non-null  object        \n",
      " 19  EnglishOccupation     18484 non-null  object        \n",
      " 20  SpanishOccupation     18484 non-null  object        \n",
      " 21  FrenchOccupation      18484 non-null  object        \n",
      " 22  HouseOwnerFlag        18484 non-null  int64         \n",
      " 23  NumberCarsOwned       18484 non-null  int64         \n",
      " 24  AddressLine1          18484 non-null  object        \n",
      " 25  AddressLine2          312 non-null    object        \n",
      " 26  Phone                 18484 non-null  object        \n",
      " 27  DateFirstPurchase     18484 non-null  datetime64[ns]\n",
      " 28  CommuteDistance       18484 non-null  object        \n",
      " 29  Region                18484 non-null  object        \n",
      " 30  BikeBuyer             18484 non-null  int64         \n",
      "dtypes: datetime64[ns](2), int64(9), object(20)\n",
      "memory usage: 4.4+ MB\n"
     ]
    }
   ],
   "source": [
    "# Información general de columnas y tipos de datos\n",
    "df.info()"
   ]
  },
  {
   "cell_type": "code",
   "execution_count": 7,
   "id": "62f69a8a",
   "metadata": {},
   "outputs": [
    {
     "data": {
      "text/html": [
       "<div>\n",
       "<style scoped>\n",
       "    .dataframe tbody tr th:only-of-type {\n",
       "        vertical-align: middle;\n",
       "    }\n",
       "\n",
       "    .dataframe tbody tr th {\n",
       "        vertical-align: top;\n",
       "    }\n",
       "\n",
       "    .dataframe thead th {\n",
       "        text-align: right;\n",
       "    }\n",
       "</style>\n",
       "<table border=\"1\" class=\"dataframe\">\n",
       "  <thead>\n",
       "    <tr style=\"text-align: right;\">\n",
       "      <th></th>\n",
       "      <th>CustomerKey</th>\n",
       "      <th>GeographyKey</th>\n",
       "      <th>NameStyle</th>\n",
       "      <th>BirthDate</th>\n",
       "      <th>YearlyIncome</th>\n",
       "      <th>TotalChildren</th>\n",
       "      <th>NumberChildrenAtHome</th>\n",
       "      <th>HouseOwnerFlag</th>\n",
       "      <th>NumberCarsOwned</th>\n",
       "      <th>DateFirstPurchase</th>\n",
       "      <th>BikeBuyer</th>\n",
       "    </tr>\n",
       "  </thead>\n",
       "  <tbody>\n",
       "    <tr>\n",
       "      <th>count</th>\n",
       "      <td>18484.000000</td>\n",
       "      <td>18484.000000</td>\n",
       "      <td>18484.0</td>\n",
       "      <td>18484</td>\n",
       "      <td>18484.000000</td>\n",
       "      <td>18484.000000</td>\n",
       "      <td>18484.000000</td>\n",
       "      <td>18484.000000</td>\n",
       "      <td>18484.000000</td>\n",
       "      <td>18484</td>\n",
       "      <td>18484.000000</td>\n",
       "    </tr>\n",
       "    <tr>\n",
       "      <th>mean</th>\n",
       "      <td>20241.500000</td>\n",
       "      <td>257.956287</td>\n",
       "      <td>0.0</td>\n",
       "      <td>1984-04-28 10:44:11.893529536</td>\n",
       "      <td>57305.777970</td>\n",
       "      <td>1.844352</td>\n",
       "      <td>1.004058</td>\n",
       "      <td>0.676369</td>\n",
       "      <td>1.502705</td>\n",
       "      <td>2013-02-15 06:10:59.078121472</td>\n",
       "      <td>0.494049</td>\n",
       "    </tr>\n",
       "    <tr>\n",
       "      <th>min</th>\n",
       "      <td>11000.000000</td>\n",
       "      <td>2.000000</td>\n",
       "      <td>0.0</td>\n",
       "      <td>1931-02-10 00:00:00</td>\n",
       "      <td>10000.000000</td>\n",
       "      <td>0.000000</td>\n",
       "      <td>0.000000</td>\n",
       "      <td>0.000000</td>\n",
       "      <td>0.000000</td>\n",
       "      <td>2010-12-29 00:00:00</td>\n",
       "      <td>0.000000</td>\n",
       "    </tr>\n",
       "    <tr>\n",
       "      <th>25%</th>\n",
       "      <td>15620.750000</td>\n",
       "      <td>62.000000</td>\n",
       "      <td>0.0</td>\n",
       "      <td>1976-10-06 00:00:00</td>\n",
       "      <td>30000.000000</td>\n",
       "      <td>0.000000</td>\n",
       "      <td>0.000000</td>\n",
       "      <td>0.000000</td>\n",
       "      <td>1.000000</td>\n",
       "      <td>2012-10-12 00:00:00</td>\n",
       "      <td>0.000000</td>\n",
       "    </tr>\n",
       "    <tr>\n",
       "      <th>50%</th>\n",
       "      <td>20241.500000</td>\n",
       "      <td>240.000000</td>\n",
       "      <td>0.0</td>\n",
       "      <td>1986-07-13 00:00:00</td>\n",
       "      <td>60000.000000</td>\n",
       "      <td>2.000000</td>\n",
       "      <td>0.000000</td>\n",
       "      <td>1.000000</td>\n",
       "      <td>2.000000</td>\n",
       "      <td>2013-05-04 00:00:00</td>\n",
       "      <td>0.000000</td>\n",
       "    </tr>\n",
       "    <tr>\n",
       "      <th>75%</th>\n",
       "      <td>24862.250000</td>\n",
       "      <td>345.000000</td>\n",
       "      <td>0.0</td>\n",
       "      <td>1993-08-31 00:00:00</td>\n",
       "      <td>70000.000000</td>\n",
       "      <td>3.000000</td>\n",
       "      <td>2.000000</td>\n",
       "      <td>1.000000</td>\n",
       "      <td>2.000000</td>\n",
       "      <td>2013-09-10 00:00:00</td>\n",
       "      <td>1.000000</td>\n",
       "    </tr>\n",
       "    <tr>\n",
       "      <th>max</th>\n",
       "      <td>29483.000000</td>\n",
       "      <td>654.000000</td>\n",
       "      <td>0.0</td>\n",
       "      <td>2001-06-25 00:00:00</td>\n",
       "      <td>170000.000000</td>\n",
       "      <td>5.000000</td>\n",
       "      <td>5.000000</td>\n",
       "      <td>1.000000</td>\n",
       "      <td>4.000000</td>\n",
       "      <td>2014-01-28 00:00:00</td>\n",
       "      <td>1.000000</td>\n",
       "    </tr>\n",
       "    <tr>\n",
       "      <th>std</th>\n",
       "      <td>5336.015523</td>\n",
       "      <td>196.531062</td>\n",
       "      <td>0.0</td>\n",
       "      <td>NaN</td>\n",
       "      <td>32285.841703</td>\n",
       "      <td>1.612408</td>\n",
       "      <td>1.522660</td>\n",
       "      <td>0.467874</td>\n",
       "      <td>1.138394</td>\n",
       "      <td>NaN</td>\n",
       "      <td>0.499978</td>\n",
       "    </tr>\n",
       "  </tbody>\n",
       "</table>\n",
       "</div>"
      ],
      "text/plain": [
       "        CustomerKey  GeographyKey  NameStyle                      BirthDate  \\\n",
       "count  18484.000000  18484.000000    18484.0                          18484   \n",
       "mean   20241.500000    257.956287        0.0  1984-04-28 10:44:11.893529536   \n",
       "min    11000.000000      2.000000        0.0            1931-02-10 00:00:00   \n",
       "25%    15620.750000     62.000000        0.0            1976-10-06 00:00:00   \n",
       "50%    20241.500000    240.000000        0.0            1986-07-13 00:00:00   \n",
       "75%    24862.250000    345.000000        0.0            1993-08-31 00:00:00   \n",
       "max    29483.000000    654.000000        0.0            2001-06-25 00:00:00   \n",
       "std     5336.015523    196.531062        0.0                            NaN   \n",
       "\n",
       "        YearlyIncome  TotalChildren  NumberChildrenAtHome  HouseOwnerFlag  \\\n",
       "count   18484.000000   18484.000000          18484.000000    18484.000000   \n",
       "mean    57305.777970       1.844352              1.004058        0.676369   \n",
       "min     10000.000000       0.000000              0.000000        0.000000   \n",
       "25%     30000.000000       0.000000              0.000000        0.000000   \n",
       "50%     60000.000000       2.000000              0.000000        1.000000   \n",
       "75%     70000.000000       3.000000              2.000000        1.000000   \n",
       "max    170000.000000       5.000000              5.000000        1.000000   \n",
       "std     32285.841703       1.612408              1.522660        0.467874   \n",
       "\n",
       "       NumberCarsOwned              DateFirstPurchase     BikeBuyer  \n",
       "count     18484.000000                          18484  18484.000000  \n",
       "mean          1.502705  2013-02-15 06:10:59.078121472      0.494049  \n",
       "min           0.000000            2010-12-29 00:00:00      0.000000  \n",
       "25%           1.000000            2012-10-12 00:00:00      0.000000  \n",
       "50%           2.000000            2013-05-04 00:00:00      0.000000  \n",
       "75%           2.000000            2013-09-10 00:00:00      1.000000  \n",
       "max           4.000000            2014-01-28 00:00:00      1.000000  \n",
       "std           1.138394                            NaN      0.499978  "
      ]
     },
     "execution_count": 7,
     "metadata": {},
     "output_type": "execute_result"
    }
   ],
   "source": [
    "# Estadísticas básicas de columnas numéricas\n",
    "df.describe()"
   ]
  },
  {
   "cell_type": "markdown",
   "id": "f53f5a97",
   "metadata": {},
   "source": [
    "## ❌ Tratamiento de Valores Faltantes"
   ]
  },
  {
   "cell_type": "code",
   "execution_count": 8,
   "id": "29655c69",
   "metadata": {},
   "outputs": [
    {
     "data": {
      "text/plain": [
       "Title           18383\n",
       "MiddleName       7830\n",
       "Suffix          18481\n",
       "AddressLine2    18172\n",
       "dtype: int64"
      ]
     },
     "execution_count": 8,
     "metadata": {},
     "output_type": "execute_result"
    }
   ],
   "source": [
    "valores_faltantes = df.isnull().sum()\n",
    "valores_faltantes[valores_faltantes > 0]"
   ]
  },
  {
   "cell_type": "markdown",
   "id": "22da54de",
   "metadata": {},
   "source": [
    "> 📌 Acción tomada: Eliminar columnas con muchos nulos o sin valor informativo."
   ]
  },
  {
   "cell_type": "code",
   "execution_count": 9,
   "id": "961d5923",
   "metadata": {},
   "outputs": [],
   "source": [
    "cols_a_eliminar = [\n",
    "    'Title', 'MiddleName', 'Suffix', 'AddressLine2', \n",
    "    'CustomerKey', 'GeographyKey', 'CustomerAlternateKey',\n",
    "    'FirstName', 'LastName', 'NameStyle', 'EmailAddress', \n",
    "    'AddressLine1', 'Phone', 'DateFirstPurchase'\n",
    "]\n",
    "\n",
    "df.drop(columns=cols_a_eliminar, inplace=True)"
   ]
  },
  {
   "cell_type": "markdown",
   "id": "2ddf75b9",
   "metadata": {},
   "source": [
    "## 🧠 Transformación de Datos"
   ]
  },
  {
   "cell_type": "code",
   "execution_count": 10,
   "id": "88cd6509",
   "metadata": {},
   "outputs": [],
   "source": [
    "# Crear variable \"Edad\"\n",
    "df['Age'] = pd.to_datetime('today').year - pd.to_datetime(df['BirthDate']).dt.year\n",
    "df.drop(columns=['BirthDate'], inplace=True)\n",
    "\n",
    "# Consolidar columnas multilingües\n",
    "df['Education'] = df[['EnglishEducation', 'SpanishEducation', 'FrenchEducation']].bfill(axis=1).iloc[:, 0]\n",
    "df.drop(columns=['EnglishEducation', 'SpanishEducation', 'FrenchEducation'], inplace=True)\n",
    "\n",
    "df['Occupation'] = df[['EnglishOccupation', 'SpanishOccupation', 'FrenchOccupation']].bfill(axis=1).iloc[:, 0]\n",
    "df.drop(columns=['EnglishOccupation', 'SpanishOccupation', 'FrenchOccupation'], inplace=True)"
   ]
  },
  {
   "cell_type": "markdown",
   "id": "97e850ec",
   "metadata": {},
   "source": [
    "## 📊 Análisis Exploratorio de Datos (EDA)"
   ]
  },
  {
   "cell_type": "code",
   "execution_count": 11,
   "id": "c275ae6b",
   "metadata": {},
   "outputs": [
    {
     "data": {
      "image/png": "[encoded data removed]",
      "text/plain": [
       "<Figure size 1500x1000 with 4 Axes>"
      ]
     },
     "metadata": {},
     "output_type": "display_data"
    }
   ],
   "source": [
    "fig, axes = plt.subplots(2, 2, figsize=(15, 10))\n",
    "\n",
    "sns.histplot(ax=axes[0, 0], x='YearlyIncome', data=df, color='skyblue', bins=30, kde=True)\n",
    "axes[0, 0].set_title('Distribución de Ingreso Anual')\n",
    "\n",
    "sns.countplot(ax=axes[0, 1], x='TotalChildren', data=df, color='green')\n",
    "axes[0, 1].set_title('Total de Hijos')\n",
    "\n",
    "sns.countplot(ax=axes[1, 0], x='NumberCarsOwned', data=df, color='pink')\n",
    "axes[1, 0].set_title('Cantidad de Autos Propios')\n",
    "\n",
    "sns.countplot(ax=axes[1, 1], x='CommuteDistance', data=df, color='gold',\n",
    "            order=['0-1 Miles', '1-2 Miles', '2-5 Miles', '5-10 Miles', '10+ Miles'])\n",
    "axes[1, 1].set_title('Distancia de Desplazamiento al Trabajo')\n",
    "\n",
    "plt.tight_layout()\n",
    "plt.show()"
   ]
  },
  {
   "cell_type": "markdown",
   "id": "5ed976bd",
   "metadata": {},
   "source": [
    "- Ingreso Anual: La mayoría de los clientes tiene un ingreso anual entre 20,000 y 70,000, con un pico notable alrededor de 60,000. La distribución parece estar sesgada hacia la derecha, indicando que hay algunos clientes con ingresos significativamente más altos, aunque son menos comunes.\n",
    "\n",
    "- Número Total de Hijos: La mayoría de los clientes no tiene hijos (0 hijos), seguido por aquellos que tienen 1 o 2 hijos. A medida que aumenta el número de hijos, la cantidad de clientes disminuye, lo cual sugiere que tener más de 2 hijos es menos frecuente entre los clientes.\n",
    "\n",
    "- Número de Autos Propios: La distribución muestra que la mayoría de los clientes posee entre 1 y 2 autos, siendo 2 autos la cantidad más común. Muy pocos clientes poseen 3 o más autos, y una cantidad significativa no posee autos propios.\n",
    "\n",
    "- Distancia de Distancia Desplazamiento: La mayoría de los clientes vive a una distancia corta de su lugar de trabajo (0-1 millas). Las demás distancias son menos comunes, lo que indica que la mayoría de los clientes reside relativamente cerca de su trabajo."
   ]
  },
  {
   "cell_type": "markdown",
   "id": "a269753b",
   "metadata": {},
   "source": [
    "## ❓ Análisis Dirigido por Preguntas\n",
    "\n",
    "A continuación, se responde a algunas preguntas clave para entender el comportamiento de los clientes respecto a la compra de bicicletas."
   ]
  },
  {
   "cell_type": "markdown",
   "id": "628091e2",
   "metadata": {},
   "source": [
    "### 1. ¿Cuál es la edad promedio de los compradores y no compradores?"
   ]
  },
  {
   "cell_type": "code",
   "execution_count": 12,
   "id": "210144bd",
   "metadata": {},
   "outputs": [
    {
     "data": {
      "text/plain": [
       "BikeBuyer\n",
       "0    42.378743\n",
       "1    39.945357\n",
       "Name: Age, dtype: float64"
      ]
     },
     "execution_count": 12,
     "metadata": {},
     "output_type": "execute_result"
    }
   ],
   "source": [
    "df.groupby('BikeBuyer')['Age'].mean()"
   ]
  },
  {
   "cell_type": "markdown",
   "id": "26369b52",
   "metadata": {},
   "source": [
    "> Los no compradores de bicicletas tienen en promedio una edad ligeramente menor (≈ 39.9 años) que los compradores (≈ 42.4 años), lo cual podría indicar una tendencia de compra más alta en clientes mayores."
   ]
  },
  {
   "cell_type": "markdown",
   "id": "e55764fa",
   "metadata": {},
   "source": [
    "### 2. ¿Qué relación hay entre ingreso anual y compra de bicicleta?"
   ]
  },
  {
   "cell_type": "code",
   "execution_count": 13,
   "id": "17dbb96e",
   "metadata": {},
   "outputs": [
    {
     "data": {
      "image/png": "[encoded data removed]",
      "text/plain": [
       "<Figure size 640x480 with 1 Axes>"
      ]
     },
     "metadata": {},
     "output_type": "display_data"
    }
   ],
   "source": [
    "sns.boxplot(data=df, x='BikeBuyer', y='YearlyIncome')\n",
    "plt.title('Ingreso Anual vs BikeBuyer')\n",
    "plt.show()"
   ]
  },
  {
   "cell_type": "markdown",
   "id": "2cf66f68",
   "metadata": {},
   "source": [
    "> El diagrama de caja sugiere que no hay una diferencia drástica en los ingresos anuales entre compradores y no compradores."
   ]
  },
  {
   "cell_type": "markdown",
   "id": "9823247e",
   "metadata": {},
   "source": [
    "### 3. ¿Hay alguna tendencia entre cantidad de hijos y ser comprador?"
   ]
  },
  {
   "cell_type": "code",
   "execution_count": 14,
   "id": "4b84e129",
   "metadata": {},
   "outputs": [
    {
     "data": {
      "image/png": "[encoded data removed]",
      "text/plain": [
       "<Figure size 640x480 with 1 Axes>"
      ]
     },
     "metadata": {},
     "output_type": "display_data"
    }
   ],
   "source": [
    "sns.countplot(data=df, x='TotalChildren', hue='BikeBuyer')\n",
    "plt.title('Hijos Totales por Categoría de Comprador')\n",
    "plt.show()"
   ]
  },
  {
   "cell_type": "markdown",
   "id": "7b288bde",
   "metadata": {},
   "source": [
    "> Se observa que los clientes con 0 o 1 hijo son más propensos a comprar bicicletas. A medida que aumenta la cantidad de hijos, la proporción de compradores tiende a disminuir."
   ]
  },
  {
   "cell_type": "markdown",
   "id": "83b7ff57",
   "metadata": {},
   "source": [
    "### 4. ¿Los compradores tienen más autos que los no compradores?"
   ]
  },
  {
   "cell_type": "code",
   "execution_count": 15,
   "id": "9c959b06",
   "metadata": {},
   "outputs": [
    {
     "data": {
      "text/plain": [
       "BikeBuyer\n",
       "0    1.706159\n",
       "1    1.294350\n",
       "Name: NumberCarsOwned, dtype: float64"
      ]
     },
     "execution_count": 15,
     "metadata": {},
     "output_type": "execute_result"
    }
   ],
   "source": [
    "df.groupby('BikeBuyer')['NumberCarsOwned'].mean()"
   ]
  },
  {
   "cell_type": "markdown",
   "id": "0fbd0a78",
   "metadata": {},
   "source": [
    "> En promedio, los compradores poseen una cantidad ligeramente mayor de autos que los no compradores. Esto puede indicar cierta correlación entre mayor poder adquisitivo (más autos) y la compra de bicicletas."
   ]
  }
 ],
 "metadata": {
  "kernelspec": {
   "display_name": "base",
   "language": "python",
   "name": "python3"
  },
  "language_info": {
   "codemirror_mode": {
    "name": "ipython",
    "version": 3
   },
   "file_extension": ".py",
   "mimetype": "text/x-python",
   "name": "python",
   "nbconvert_exporter": "python",
   "pygments_lexer": "ipython3",
   "version": "3.12.7"
  }
 },
 "nbformat": 4,
 "nbformat_minor": 5
}
